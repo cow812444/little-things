{
 "cells": [
  {
   "cell_type": "code",
   "execution_count": 2,
   "metadata": {},
   "outputs": [],
   "source": [
    "# -*- coding: UTF-8 -*-\n",
    "import cv2 as cv\n",
    "import cv2\n",
    "import numpy as np\n",
    "import os\n",
    " \n",
    "def do_image(src001,src002):\n",
    "    src001_ = src001[105:455, 612:1220]#截取第85行到435行的第612列到1220列的区域   350*602\n",
    "    #cv.imshow(\"001\", src001_)  #001小朋友\n",
    "    #src002__ = src002[80:600, 1,200]\n",
    "    x, y = src002.shape[0:2]\n",
    "    src002r = cv.resize(src002, (int(y / 2 * 1.2), int(x / 2 * 1.2)))\n",
    "    src002_ = src002r[235:585, 620:1228]   # 350*602\n",
    "    #cv.imshow(\"002\", src002_)  #002小朋友\n",
    "    src001_1 = src001[0:620, 3:608]#截取第85行到435行的第612列到1220列的区域    620*605\n",
    "    src002_r = src002r[150:770, 3:608]#截取第85行到435行的第612列到1220列的区域    620*605\n",
    "    x, y = src001_1.shape[0:2]\n",
    "    src001_1r = cv.resize(src002_r, (int(y * 1.13), int(x * 1.13)))\n",
    "    #cv.imshow(\"001_1\", src001_1r)  \n",
    "    mix01 = np.concatenate((src001_, src002_))  #縱向合併 001上002下小朋友\n",
    "    #cv.imshow(\"mix001&2\", mix01)\n",
    "    mix02 = np.concatenate([src001_1r, mix01] , axis=1)  #橫向合併\n",
    "    cv2.putText(mix02, '001', (680, 50), cv2.FONT_HERSHEY_SIMPLEX,  2, (0, 0, 255), 3, cv2.LINE_AA)\n",
    "    cv2.putText(mix02, '002', (680, 400), cv2.FONT_HERSHEY_SIMPLEX,  2, (0, 0, 255), 3, cv2.LINE_AA)\n",
    "    cv2.putText(mix02, 'green', (170, 100), cv2.FONT_HERSHEY_SIMPLEX,  1, (255, 255, 255), 2, cv2.LINE_AA)\n",
    "    cv2.putText(mix02, 'black', (520, 100), cv2.FONT_HERSHEY_SIMPLEX,  1, (255, 255, 255), 2, cv2.LINE_AA)\n",
    "    cv2.putText(mix02, 'white circle', (170, 320), cv2.FONT_HERSHEY_SIMPLEX,  1, (255, 255, 255), 2, cv2.LINE_AA)\n",
    "    ##cv2.putText(影像, 文字, 座標, 字型, 大小, 顏色, 線條寬度, 線條種類)\n",
    "    cv.imshow(\"mix\", mix02)\n",
    "    k=n+1\n",
    "    a='00'\n",
    "    b='0'\n",
    "    if(k<10):\n",
    "        cv.imwrite(path_save+a+(str)(k)+'.jpg',mix02)\n",
    "    if(k>9 and k<100):\n",
    "        cv.imwrite(path_save+b+(str)(k)+'.jpg',mix02)\n",
    "    if(k>99):\n",
    "        cv.imwrite(path_save+(str)(k)+'.jpg',mix02)\n",
    "\n",
    "\n",
    "path_001='C:/Users/cow81/kasja/checked_001/'\n",
    "path_002='C:/Users/cow81/kasja/checked_002/'\n",
    "path_save='C:/Users/cow81/kasja/mixed/'\n",
    "files_001=os.listdir(path_001)\n",
    "files_002=os.listdir(path_002)\n",
    "#print(files_001) \n",
    "\n",
    "n=0 #設定初始值\n",
    "for i in files_001:\n",
    "    src001 = cv.imread(path_001+i)\n",
    "    src002 = cv.imread(path_002+files_002[n])\n",
    "    #cv.imshow(\"原来\", src)\n",
    "    do_image(src001,src002)\n",
    "    n=n+1\n",
    "cv.waitKey(0)\n",
    "cv.destroyAllWindows()"
   ]
  },
  {
   "cell_type": "code",
   "execution_count": null,
   "metadata": {},
   "outputs": [],
   "source": []
  }
 ],
 "metadata": {
  "kernelspec": {
   "display_name": "Python 3",
   "language": "python",
   "name": "python3"
  },
  "language_info": {
   "codemirror_mode": {
    "name": "ipython",
    "version": 3
   },
   "file_extension": ".py",
   "mimetype": "text/x-python",
   "name": "python",
   "nbconvert_exporter": "python",
   "pygments_lexer": "ipython3",
   "version": "3.7.4"
  }
 },
 "nbformat": 4,
 "nbformat_minor": 2
}
