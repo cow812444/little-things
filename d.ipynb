{
 "nbformat": 4,
 "nbformat_minor": 2,
 "metadata": {
  "language_info": {
   "name": "python",
   "codemirror_mode": {
    "name": "ipython",
    "version": 3
   },
   "version": "3.7.4-final"
  },
  "orig_nbformat": 2,
  "file_extension": ".py",
  "mimetype": "text/x-python",
  "name": "python",
  "npconvert_exporter": "python",
  "pygments_lexer": "ipython3",
  "version": 3,
  "kernelspec": {
   "name": "python37464bitbaseconda7af9ca22254b43f1852c7d3c10f43431",
   "display_name": "Python 3.7.4 64-bit ('base': conda)"
  }
 },
 "cells": [
  {
   "cell_type": "code",
   "execution_count": 57,
   "metadata": {},
   "outputs": [
    {
     "name": "stdout",
     "output_type": "stream",
     "text": "測資:  108/02\n第1組: 適用02月19\n第3組: 適用民國年109/02/02\n結果:  108/0/2 一零八年 0 2\n---\n測資:  20200129\n第3組: 適用民國年109/02/02\n第4組: 適用西元年1990/02/02\n結果:  2020/1/29 二零二零年 1 29\n---\n測資:  1980/12/1\n第1組: 適用02月19\n第3組: 適用民國年109/02/02\n第4組: 適用西元年1990/02/02\n結果:  1980/12/1 一九八零年 12 1\n---\n測資:  1980/12/01\n第1組: 適用02月19\n第3組: 適用民國年109/02/02\n第4組: 適用西元年1990/02/02\n結果:  1980/12/1 一九八零年 12 1\n---\n測資:  2020/12/1\n第1組: 適用02月19\n第3組: 適用民國年109/02/02\n第4組: 適用西元年1990/02/02\n結果:  2020/12/1 二零二零年 12 1\n---\n測資:  109/1/5\n第1組: 適用02月19\n第3組: 適用民國年109/02/02\n結果:  109/1/5 一零九年 1 5\n---\n測資:  109.5.8\n第1組: 適用02月19\n第3組: 適用民國年109/02/02\n結果:  109/5/8 一零九年 5 8\n---\n測資:  2021.2.3\n第1組: 適用02月19\n第3組: 適用民國年109/02/02\n第4組: 適用西元年1990/02/02\n結果:  2021/2/3 二零二一年 2 3\n---\n測資:  1980年5月3號\n第1組: 適用02月19\n第5組: 適用民國西元xx年xx月xx日\n結果:  1980/5/3 一九八零年 5 3\n---\n測資:  109年09月03號\n第1組: 適用02月19\n第5組: 適用民國西元xx年xx月xx日\n結果:  109/9/3 一零九年 9 3\n---\n測資:  2月3號\n第1組: 適用02月19\n結果:  2/3  2 3\n---\n測資:  12月9號\n第1組: 適用02月19\n結果:  12/9  12 9\n---\n測資:  02-02-20\n第2組: 適用 02-30-20\n結果:  2020/2/2 二零二零年 2 2\n---\n測資:  02-30-80\n第2組: 適用 02-30-20\n結果:  1980/2/30 一九八零年 2 30\n---\n測資:  43869\n第0組: 適用42277\n第1組: 適用02月19\n第3組: 適用民國年109/02/02\n第4組: 適用西元年1990/02/02\n結果:  2020/2/8 二零二零年 2 8\n---\n測資:  42277\n第0組: 適用42277\n第1組: 適用02月19\n第3組: 適用民國年109/02/02\n第4組: 適用西元年1990/02/02\n結果:  2015/9/30 二零一五年 9 30\n---\n"
    }
   ],
   "source": [
    "from datetime import datetime\n",
    "from datetime import timedelta\n",
    "import re\n",
    "ipts = ['108/02', '20200129', '1980/12/1', '1980/12/01', '2020/12/1', '109/1/5', '109.5.8', '2021.2.3', '1980年5月3號', '109年09月03號', '2月3號', '12月9號', '02-02-20', '02-30-80', '43869', '42277']\n",
    "\n",
    "for ipt in ipts: \n",
    "    print('測資: ', ipt) \n",
    "    year = ''\n",
    "    month = ''\n",
    "    day = ''      \n",
    "\n",
    "    pattern = re.search(r'^(\\d{5})$', ipt)\n",
    "    if pattern:\n",
    "        print('第0組: 適用42277')\n",
    "        dt = pattern.group(1)\n",
    "        dt = int(dt)\n",
    "        std_dt = datetime.strptime(\"1899-12-30\", \"%Y-%m-%d\")\n",
    "        dt = std_dt + timedelta(days=dt)\n",
    "        dt = dt.strftime(\"%Y/%m/%d\")\n",
    "        ipt = dt\n",
    "\n",
    "    pattern = re.search(r'((\\d{1,2})[\\/\\.月](\\d{1,2}))', ipt)\n",
    "    if pattern:\n",
    "        print('第1組: 適用02月19')    \n",
    "        month = pattern.group(2) #02\n",
    "        day = pattern.group(3) #02\n",
    "\n",
    "    pattern = re.search(r'((\\d{2})-(\\d{2})-(\\d{2}))', ipt)\n",
    "    if pattern:\n",
    "        print('第2組: 適用 02-30-20')                   \n",
    "        month = pattern.group(2) #02\n",
    "        day = pattern.group(3) #02\n",
    "        year = pattern.group(4)  #20\n",
    "        if int(year) <= 20:\n",
    "            year = '20' + str(year)\n",
    "        else:\n",
    "            year = '19' + str(year)\n",
    "    \n",
    "    pattern = re.search(r'((\\d{3})[\\/\\.]?(\\d{1,2})[\\/\\.]?(\\d{1,2}))', ipt)\n",
    "    if pattern:\n",
    "        print('第3組: 適用民國年109/02/02')    \n",
    "        year = pattern.group(2) #02\n",
    "        month = pattern.group(3) #02\n",
    "        day = pattern.group(4)  #1980\n",
    "\n",
    "    pattern = re.search(r'((\\d{4})[\\/\\.]?(\\d{1,2})[\\/\\.]?(\\d{1,2}))', ipt)\n",
    "    if pattern:\n",
    "        print('第4組: 適用西元年1990/02/02')    \n",
    "        year = pattern.group(2) #02\n",
    "        month = pattern.group(3) #02\n",
    "        day = pattern.group(4)  #1980\n",
    "\n",
    "    pattern = re.search(r'((\\d{3,4})[年](\\d{1,2})[月](\\d{1,2}))', ipt)\n",
    "    if pattern:\n",
    "        print('第5組: 適用民國西元xx年xx月xx日')    \n",
    "        year = pattern.group(2) #109 or 2020\n",
    "        month = pattern.group(3) #02\n",
    "        day = pattern.group(4)  #02\n",
    "\n",
    "    if len(month) > 1:\n",
    "        if month[1] != '0':\n",
    "            month = month.replace('0', '')\n",
    "    if len(day) > 1:\n",
    "        if day[1] != '0':\n",
    "            day = day.replace('0', '')\n",
    "    if year != '':\n",
    "        fullDate = year + '/' + month + '/' + day\n",
    "        year = year.replace('1',u'一')\n",
    "        year = year.replace('2',u'二')\n",
    "        year = year.replace('3',u'三')\n",
    "        year = year.replace('4',u'四')\n",
    "        year = year.replace('5',u'五')\n",
    "        year = year.replace('6',u'六')\n",
    "        year = year.replace('7',u'七')\n",
    "        year = year.replace('8',u'八')\n",
    "        year = year.replace('9',u'九')\n",
    "        year = year.replace('0',u'零')\n",
    "        year = year + '年'\n",
    "    else:\n",
    "        fullDate = month + '/' + day\n",
    "\n",
    "    print('結果: ', fullDate , year , month , day)\n",
    "    print('---')"
   ]
  },
  {
   "cell_type": "code",
   "execution_count": 39,
   "metadata": {},
   "outputs": [
    {
     "name": "stdout",
     "output_type": "stream",
     "text": "2020/02/08\n"
    }
   ],
   "source": [
    "from datetime import datetime\n",
    "from datetime import timedelta\n",
    "import re\n",
    "\n",
    "dt = 43869\n",
    "std_dt = datetime.strptime(\"1899-12-30\", \"%Y-%m-%d\")\n",
    "ans = std_dt + timedelta(days=dt)\n",
    "ans = ans.strftime(\"%Y/%m/%d\")\n",
    "print(ans)"
   ]
  },
  {
   "cell_type": "code",
   "execution_count": 54,
   "metadata": {},
   "outputs": [
    {
     "name": "stdout",
     "output_type": "stream",
     "text": "2020-12-01 是 星期二\n整個人整天都給你 :)\n"
    }
   ],
   "source": [
    "from datetime import datetime\n",
    "from datetime import timedelta\n",
    "\n",
    "something = '整個人整天都給你 :)'\n",
    "week_day = {\n",
    "        0: '星期一',\n",
    "        1: '星期二',\n",
    "        2: '星期三',\n",
    "        3: '星期四',\n",
    "        4: '星期五',\n",
    "        5: '星期六',\n",
    "        6: '星期日',\n",
    "    }\n",
    "\n",
    "date = '2020-12-01'\n",
    "def get_week_day(date):\n",
    "    day = date.weekday() \n",
    "    return week_day[day]\n",
    "\n",
    "birth = datetime.strptime(date, \"%Y-%m-%d\")\n",
    "week = get_week_day(birth)\n",
    "print(birth.strftime(\"%Y-%m-%d\"), '是', week)\n",
    "print(something)"
   ]
  },
  {
   "cell_type": "code",
   "execution_count": 58,
   "metadata": {},
   "outputs": [
    {
     "ename": "SyntaxError",
     "evalue": "invalid syntax (<ipython-input-58-d552f5e11752>, line 2)",
     "output_type": "error",
     "traceback": [
      "\u001b[0;36m  File \u001b[0;32m\"<ipython-input-58-d552f5e11752>\"\u001b[0;36m, line \u001b[0;32m2\u001b[0m\n\u001b[0;31m    b = (int)a\u001b[0m\n\u001b[0m             ^\u001b[0m\n\u001b[0;31mSyntaxError\u001b[0m\u001b[0;31m:\u001b[0m invalid syntax\n"
     ]
    }
   ],
   "source": [
    "a = '02'\n",
    "b = (int)a\n",
    "print(b)"
   ]
  },
  {
   "cell_type": "code",
   "execution_count": 63,
   "metadata": {},
   "outputs": [
    {
     "name": "stdout",
     "output_type": "stream",
     "text": "109\n9\n"
    }
   ],
   "source": [
    "ttt = '109/09'\n",
    "pdl_str = ttt.split('/')\n",
    "a = pdl_str[0]\n",
    "if len(pdl_str[1]) > 1:\n",
    "    if pdl_str[1][0] == '0':\n",
    "        pdl_str[1] = pdl_str[1].replace('0', '')\n",
    "b = pdl_str[1]\n",
    "print(a)\n",
    "print(b)"
   ]
  },
  {
   "cell_type": "code",
   "execution_count": 65,
   "metadata": {},
   "outputs": [
    {
     "name": "stdout",
     "output_type": "stream",
     "text": "{\"TEST\": \"test\"}\n"
    }
   ],
   "source": [
    "import json\n",
    "import re\n",
    "import os\n",
    "update_kv_map = {}\n",
    "update_kv_map['TEST'] = 'test'\n",
    "print(json.dumps(update_kv_map))"
   ]
  },
  {
   "cell_type": "code",
   "execution_count": 99,
   "metadata": {},
   "outputs": [
    {
     "name": "stdout",
     "output_type": "stream",
     "text": "Error: Check out your header/body!Something went wrong or missing!\nFile \"<ipython-input-99-dec307931ad7>\", line 17, in <module>: [ZeroDivisionError] division by zero\n"
    }
   ],
   "source": [
    "import sys\n",
    "import traceback\n",
    "\n",
    "def exceptRaise(e):\n",
    "    error_class = e.__class__.__name__ #取得錯誤類型\n",
    "    detail = e.args[0] #取得詳細內容\n",
    "    cl, exc, tb = sys.exc_info() #取得Call Stack\n",
    "    lastCallStack = traceback.extract_tb(tb)[-1] #取得Call Stack的最後一筆資料\n",
    "    #print(tb)\n",
    "    fileName = lastCallStack[0] #取得發生的檔案名稱\n",
    "    lineNum = lastCallStack[1] #取得發生的行號\n",
    "    funcName = lastCallStack[2] #取得發生的函數名稱\n",
    "    errMsg = \"File \\\"{}\\\", line {}, in {}: [{}] {}\".format(fileName, lineNum, funcName, error_class, detail)\n",
    "    return errMsg\n",
    "\n",
    "try:\n",
    "    a = 1/0\n",
    "except Exception as e:\n",
    "    print('Error: Check out your header/body!Something went wrong or missing!')\n",
    "    print(exceptRaise(e))"
   ]
  },
  {
   "cell_type": "code",
   "execution_count": 89,
   "metadata": {},
   "outputs": [
    {
     "name": "stdout",
     "output_type": "stream",
     "text": "Error: check out your header/body!something went wrong!\n"
    },
    {
     "ename": "ZeroDivisionError",
     "evalue": "division by zero",
     "output_type": "error",
     "traceback": [
      "\u001b[0;31m---------------------------------------------------------------------------\u001b[0m",
      "\u001b[0;31mZeroDivisionError\u001b[0m                         Traceback (most recent call last)",
      "\u001b[0;32m<ipython-input-89-6c4ddd147a78>\u001b[0m in \u001b[0;36m<module>\u001b[0;34m\u001b[0m\n\u001b[1;32m      3\u001b[0m \u001b[0;32mexcept\u001b[0m \u001b[0mException\u001b[0m \u001b[0;32mas\u001b[0m \u001b[0me\u001b[0m\u001b[0;34m:\u001b[0m\u001b[0;34m\u001b[0m\u001b[0;34m\u001b[0m\u001b[0m\n\u001b[1;32m      4\u001b[0m     \u001b[0mprint\u001b[0m\u001b[0;34m(\u001b[0m\u001b[0;34m'Error: check out your header/body!something went wrong!'\u001b[0m\u001b[0;34m)\u001b[0m\u001b[0;34m\u001b[0m\u001b[0;34m\u001b[0m\u001b[0m\n\u001b[0;32m----> 5\u001b[0;31m     \u001b[0;32mraise\u001b[0m \u001b[0me\u001b[0m\u001b[0;34m\u001b[0m\u001b[0;34m\u001b[0m\u001b[0m\n\u001b[0m",
      "\u001b[0;32m<ipython-input-89-6c4ddd147a78>\u001b[0m in \u001b[0;36m<module>\u001b[0;34m\u001b[0m\n\u001b[1;32m      1\u001b[0m \u001b[0;32mtry\u001b[0m\u001b[0;34m:\u001b[0m\u001b[0;34m\u001b[0m\u001b[0;34m\u001b[0m\u001b[0m\n\u001b[0;32m----> 2\u001b[0;31m     \u001b[0ma\u001b[0m \u001b[0;34m=\u001b[0m \u001b[0;36m1\u001b[0m\u001b[0;34m/\u001b[0m\u001b[0;36m0\u001b[0m\u001b[0;34m\u001b[0m\u001b[0;34m\u001b[0m\u001b[0m\n\u001b[0m\u001b[1;32m      3\u001b[0m \u001b[0;32mexcept\u001b[0m \u001b[0mException\u001b[0m \u001b[0;32mas\u001b[0m \u001b[0me\u001b[0m\u001b[0;34m:\u001b[0m\u001b[0;34m\u001b[0m\u001b[0;34m\u001b[0m\u001b[0m\n\u001b[1;32m      4\u001b[0m     \u001b[0mprint\u001b[0m\u001b[0;34m(\u001b[0m\u001b[0;34m'Error: check out your header/body!something went wrong!'\u001b[0m\u001b[0;34m)\u001b[0m\u001b[0;34m\u001b[0m\u001b[0;34m\u001b[0m\u001b[0m\n\u001b[1;32m      5\u001b[0m     \u001b[0;32mraise\u001b[0m \u001b[0me\u001b[0m\u001b[0;34m\u001b[0m\u001b[0;34m\u001b[0m\u001b[0m\n",
      "\u001b[0;31mZeroDivisionError\u001b[0m: division by zero"
     ]
    }
   ],
   "source": [
    "try:\n",
    "    a = 1/0\n",
    "except Exception as e:\n",
    "    print('Error: check out your header/body!something went wrong!')\n",
    "    raise e"
   ]
  },
  {
   "cell_type": "code",
   "execution_count": 4,
   "metadata": {},
   "outputs": [
    {
     "name": "stdout",
     "output_type": "stream",
     "text": "1\n3\n"
    }
   ],
   "source": [
    "import re\n",
    "ipt = ['風厄牙即將舉辦', '失落龍絆日的舉辦公告', '光厄牙即將舉辦']\n",
    "cnt = 0\n",
    "info = []\n",
    "for i in ipt:\n",
    "            texts = i.strip()\n",
    "            group1 = re.search(r'(失落龍絆日|傳說召喚|精選召喚).*(舉辦公告|開始舉辦)',texts)\n",
    "            if group1:\n",
    "                info.append(texts)\n",
    "                types = group1.group(2) #用舉辦公告/開始舉辦區分\n",
    "                print(cnt)\n",
    "            cnt = cnt +1\n",
    "print(cnt)"
   ]
  },
  {
   "cell_type": "code",
   "execution_count": 9,
   "metadata": {},
   "outputs": [
    {
     "name": "stdout",
     "output_type": "stream",
     "text": "抓到資料庫中的 titleName(after join) = '失落龍絆日的舉辦公告'\n['', '失落龍絆日的舉辦公告', '']\n"
    }
   ],
   "source": [
    "result = 0 \n",
    "result = '\\'失落龍絆日的舉辦公告\\''\n",
    "print(\"抓到資料庫中的 titleName(after join) = {}\".format(result))\n",
    "result = result.split('\\'')\n",
    "print(result)"
   ]
  },
  {
   "cell_type": "code",
   "execution_count": null,
   "metadata": {},
   "outputs": [],
   "source": []
  }
 ]
}